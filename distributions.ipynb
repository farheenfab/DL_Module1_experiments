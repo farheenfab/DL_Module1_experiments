{
 "cells": [
  {
   "cell_type": "code",
   "metadata": {
    "ExecuteTime": {
     "end_time": "2024-09-12T20:44:03.417803Z",
     "start_time": "2024-09-12T20:44:03.412475Z"
    }
   },
   "source": [
    "import torch\n",
    "import torch.distributions as dist"
   ],
   "outputs": [],
   "execution_count": 3
  },
  {
   "metadata": {
    "ExecuteTime": {
     "end_time": "2024-09-12T20:48:27.115420Z",
     "start_time": "2024-09-12T20:48:27.100802Z"
    }
   },
   "cell_type": "code",
   "source": [
    "## Let's create a Bernoulli distribution -> has only 2 outcomes\n",
    "\n",
    "bernoulli = dist.Bernoulli(torch.tensor([0.5]))\n",
    "print(bernoulli)\n",
    "\n",
    "## Sample from distribution\n",
    "for _ in range(10):\n",
    "    print(bernoulli.sample())"
   ],
   "outputs": [
    {
     "name": "stdout",
     "output_type": "stream",
     "text": [
      "Bernoulli(probs: tensor([0.5000]))\n",
      "tensor([0.])\n",
      "tensor([1.])\n",
      "tensor([1.])\n",
      "tensor([0.])\n",
      "tensor([1.])\n",
      "tensor([1.])\n",
      "tensor([1.])\n",
      "tensor([0.])\n",
      "tensor([0.])\n",
      "tensor([0.])\n"
     ]
    }
   ],
   "execution_count": 9
  },
  {
   "metadata": {
    "ExecuteTime": {
     "end_time": "2024-09-12T20:51:03.836329Z",
     "start_time": "2024-09-12T20:51:03.793989Z"
    }
   },
   "cell_type": "code",
   "source": [
    "samples = [bernoulli.sample() for _ in range(1000)]\n",
    "print(f\"Mean: {torch.mean(torch.stack(samples))}\")\n",
    "print(f\"Variance: {torch.var(torch.stack(samples))}\")"
   ],
   "outputs": [
    {
     "name": "stdout",
     "output_type": "stream",
     "text": [
      "Mean: 0.5180000066757202\n",
      "Variance: 0.24992592632770538\n"
     ]
    }
   ],
   "execution_count": 12
  },
  {
   "metadata": {
    "ExecuteTime": {
     "end_time": "2024-09-12T20:53:23.167181Z",
     "start_time": "2024-09-12T20:53:23.145511Z"
    }
   },
   "cell_type": "code",
   "source": [
    "## Let's create a Gaussian/Normal Distribution\n",
    "\n",
    "normal = dist.Normal(torch.tensor([0.0]), torch.tensor([1.0])) # mean is 0 and SD is 1\n",
    "for _ in range(10):\n",
    "    print(normal.sample())"
   ],
   "outputs": [
    {
     "name": "stdout",
     "output_type": "stream",
     "text": [
      "tensor([0.2743])\n",
      "tensor([0.7088])\n",
      "tensor([-2.4953])\n",
      "tensor([-1.0193])\n",
      "tensor([0.3069])\n",
      "tensor([0.1894])\n",
      "tensor([-0.2644])\n",
      "tensor([-0.1316])\n",
      "tensor([1.1115])\n",
      "tensor([1.3854])\n"
     ]
    }
   ],
   "execution_count": 13
  },
  {
   "metadata": {
    "ExecuteTime": {
     "end_time": "2024-09-12T20:54:01.378302Z",
     "start_time": "2024-09-12T20:54:01.326859Z"
    }
   },
   "cell_type": "code",
   "source": [
    "samples = [normal.sample() for _ in range(1000)]\n",
    "print(f\"Mean: {torch.mean(torch.stack(samples))}\")\n",
    "print(f\"Variance: {torch.var(torch.stack(samples))}\")"
   ],
   "outputs": [
    {
     "name": "stdout",
     "output_type": "stream",
     "text": [
      "Mean: 0.0011930199107155204\n",
      "Variance: 1.0008480548858643\n"
     ]
    }
   ],
   "execution_count": 14
  },
  {
   "metadata": {},
   "cell_type": "markdown",
   "source": "In sampling any probability distributions, as we are getting only few of the samples and not the whole distribution, hence, the mean and variance won't match perfectly."
  }
 ],
 "metadata": {
  "kernelspec": {
   "display_name": "base",
   "language": "python",
   "name": "python3"
  },
  "language_info": {
   "name": "python",
   "version": "3.11.5"
  }
 },
 "nbformat": 4,
 "nbformat_minor": 2
}
